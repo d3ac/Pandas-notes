{
 "cells": [
  {
   "cell_type": "markdown",
   "id": "4a0f52cc",
   "metadata": {},
   "source": [
    "# Creating, Reading and Writing"
   ]
  },
  {
   "cell_type": "code",
   "execution_count": 1,
   "id": "52e32dac",
   "metadata": {},
   "outputs": [],
   "source": [
    "import pandas as pd"
   ]
  },
  {
   "cell_type": "markdown",
   "id": "b200180b",
   "metadata": {},
   "source": [
    "### DataFrame\n",
    "\n",
    "创建一个DataFrame对象"
   ]
  },
  {
   "cell_type": "code",
   "execution_count": 2,
   "id": "cddc87d5",
   "metadata": {},
   "outputs": [
    {
     "data": {
      "text/html": [
       "<div>\n",
       "<style scoped>\n",
       "    .dataframe tbody tr th:only-of-type {\n",
       "        vertical-align: middle;\n",
       "    }\n",
       "\n",
       "    .dataframe tbody tr th {\n",
       "        vertical-align: top;\n",
       "    }\n",
       "\n",
       "    .dataframe thead th {\n",
       "        text-align: right;\n",
       "    }\n",
       "</style>\n",
       "<table border=\"1\" class=\"dataframe\">\n",
       "  <thead>\n",
       "    <tr style=\"text-align: right;\">\n",
       "      <th></th>\n",
       "      <th>Yes</th>\n",
       "      <th>No</th>\n",
       "    </tr>\n",
       "  </thead>\n",
       "  <tbody>\n",
       "    <tr>\n",
       "      <th>0</th>\n",
       "      <td>50</td>\n",
       "      <td>orzz</td>\n",
       "    </tr>\n",
       "    <tr>\n",
       "      <th>1</th>\n",
       "      <td>d3ac</td>\n",
       "      <td>2</td>\n",
       "    </tr>\n",
       "  </tbody>\n",
       "</table>\n",
       "</div>"
      ],
      "text/plain": [
       "    Yes    No\n",
       "0    50  orzz\n",
       "1  d3ac     2"
      ]
     },
     "execution_count": 2,
     "metadata": {},
     "output_type": "execute_result"
    }
   ],
   "source": [
    "pd.DataFrame({'Yes':[50,'d3ac'],'No':['orzz',2]})"
   ]
  },
  {
   "cell_type": "markdown",
   "id": "975f6204",
   "metadata": {},
   "source": [
    "设置index"
   ]
  },
  {
   "cell_type": "code",
   "execution_count": 3,
   "id": "5829423f",
   "metadata": {},
   "outputs": [
    {
     "data": {
      "text/html": [
       "<div>\n",
       "<style scoped>\n",
       "    .dataframe tbody tr th:only-of-type {\n",
       "        vertical-align: middle;\n",
       "    }\n",
       "\n",
       "    .dataframe tbody tr th {\n",
       "        vertical-align: top;\n",
       "    }\n",
       "\n",
       "    .dataframe thead th {\n",
       "        text-align: right;\n",
       "    }\n",
       "</style>\n",
       "<table border=\"1\" class=\"dataframe\">\n",
       "  <thead>\n",
       "    <tr style=\"text-align: right;\">\n",
       "      <th></th>\n",
       "      <th>Yes</th>\n",
       "      <th>No</th>\n",
       "    </tr>\n",
       "  </thead>\n",
       "  <tbody>\n",
       "    <tr>\n",
       "      <th>col1</th>\n",
       "      <td>50</td>\n",
       "      <td>orzz</td>\n",
       "    </tr>\n",
       "    <tr>\n",
       "      <th>col2</th>\n",
       "      <td>d3ac</td>\n",
       "      <td>2</td>\n",
       "    </tr>\n",
       "  </tbody>\n",
       "</table>\n",
       "</div>"
      ],
      "text/plain": [
       "       Yes    No\n",
       "col1    50  orzz\n",
       "col2  d3ac     2"
      ]
     },
     "execution_count": 3,
     "metadata": {},
     "output_type": "execute_result"
    }
   ],
   "source": [
    "pd.DataFrame({'Yes':[50,'d3ac'],'No':['orzz',2]},index=['col1','col2'])"
   ]
  },
  {
   "cell_type": "markdown",
   "id": "6bc2d3ef",
   "metadata": {},
   "source": [
    "### Series\n",
    "\n",
    "创建一个Series对象"
   ]
  },
  {
   "cell_type": "code",
   "execution_count": 4,
   "id": "7335fd7f",
   "metadata": {},
   "outputs": [
    {
     "data": {
      "text/plain": [
       "0       1\n",
       "1       2\n",
       "2       3\n",
       "3    d3ac\n",
       "4    orzz\n",
       "dtype: object"
      ]
     },
     "execution_count": 4,
     "metadata": {},
     "output_type": "execute_result"
    }
   ],
   "source": [
    "pd.Series([1,2,3,'d3ac','orzz'])"
   ]
  },
  {
   "cell_type": "markdown",
   "id": "38abeb08",
   "metadata": {},
   "source": [
    "相比于DataFrame来说，Series就是一个列表(list)，而DataFrame是一个表格(table)，Series是表格中的一列，就算维度高也是取axis=0的维度\n",
    "\n",
    "一个Series可以有一个名字，DataFrame是column name，Series是overall name"
   ]
  },
  {
   "cell_type": "code",
   "execution_count": 5,
   "id": "5dd3b31d",
   "metadata": {},
   "outputs": [
    {
     "data": {
      "text/plain": [
       "Col1    [1, 2, 3]\n",
       "Col2    [4, 5, 6]\n",
       "Name: this Series, dtype: object"
      ]
     },
     "execution_count": 5,
     "metadata": {},
     "output_type": "execute_result"
    }
   ],
   "source": [
    "pd.Series([[1,2,3],[4,5,6]],index=['Col1','Col2'],name='this Series')"
   ]
  },
  {
   "cell_type": "markdown",
   "id": "a49ea273",
   "metadata": {},
   "source": [
    "set_option 可选参数：\n",
    "\n",
    "| 功能 | 参数名 |\n",
    "| ---- | ---- |\n",
    "| 显示列 | display.max_columns |\n",
    "| 显示行 | display.max_rows |\n",
    "| 显示小数位数 | display.float_forrmat |\n",
    "| 显示宽度 | display.width |\n",
    "\n",
    "还可以让我血压升高"
   ]
  },
  {
   "cell_type": "code",
   "execution_count": 6,
   "id": "3f34807b",
   "metadata": {},
   "outputs": [
    {
     "name": "stdout",
     "output_type": "stream",
     "text": [
      "   Math  English  Sports Physical Experiment\n",
      "0    86       73      76                  良好\n",
      "\n",
      "   Math  ...  Physical Experiment\n",
      "0    86  ...                   良好\n",
      "\n",
      "[1 rows x 4 columns]\n"
     ]
    }
   ],
   "source": [
    "data = pd.DataFrame({'Math':[86],'English':[73],'Sports':[76],'Physical Experiment':['良好']})\n",
    "print(data,end='\\n\\n')\n",
    "pd.set_option('display.max_columns', 3)\n",
    "print(data)"
   ]
  },
  {
   "cell_type": "markdown",
   "id": "41d63fac",
   "metadata": {},
   "source": [
    "### 数据读取\n",
    "\n",
    "path中的 $../$ 可表示上层文件夹，当然，只是提一下，这里并没有这样用"
   ]
  },
  {
   "cell_type": "code",
   "execution_count": 7,
   "id": "46c0274b",
   "metadata": {},
   "outputs": [
    {
     "data": {
      "text/html": [
       "<div>\n",
       "<style scoped>\n",
       "    .dataframe tbody tr th:only-of-type {\n",
       "        vertical-align: middle;\n",
       "    }\n",
       "\n",
       "    .dataframe tbody tr th {\n",
       "        vertical-align: top;\n",
       "    }\n",
       "\n",
       "    .dataframe thead th {\n",
       "        text-align: right;\n",
       "    }\n",
       "</style>\n",
       "<table border=\"1\" class=\"dataframe\">\n",
       "  <thead>\n",
       "    <tr style=\"text-align: right;\">\n",
       "      <th></th>\n",
       "      <th>Unnamed: 0</th>\n",
       "      <th>name</th>\n",
       "      <th>score</th>\n",
       "    </tr>\n",
       "  </thead>\n",
       "  <tbody>\n",
       "    <tr>\n",
       "      <th>0</th>\n",
       "      <td>1</td>\n",
       "      <td>zyy</td>\n",
       "      <td>100</td>\n",
       "    </tr>\n",
       "    <tr>\n",
       "      <th>1</th>\n",
       "      <td>2</td>\n",
       "      <td>yyz</td>\n",
       "      <td>60</td>\n",
       "    </tr>\n",
       "    <tr>\n",
       "      <th>2</th>\n",
       "      <td>3</td>\n",
       "      <td>yzy</td>\n",
       "      <td>70</td>\n",
       "    </tr>\n",
       "    <tr>\n",
       "      <th>3</th>\n",
       "      <td>4</td>\n",
       "      <td>zyz</td>\n",
       "      <td>80</td>\n",
       "    </tr>\n",
       "  </tbody>\n",
       "</table>\n",
       "</div>"
      ],
      "text/plain": [
       "   Unnamed: 0 name  score\n",
       "0           1  zyy    100\n",
       "1           2  yyz     60\n",
       "2           3  yzy     70\n",
       "3           4  zyz     80"
      ]
     },
     "execution_count": 7,
     "metadata": {},
     "output_type": "execute_result"
    }
   ],
   "source": [
    "pd.read_csv('TempFolder/data.csv')"
   ]
  },
  {
   "cell_type": "markdown",
   "id": "b4821f71",
   "metadata": {},
   "source": [
    "可以设置index在哪一行"
   ]
  },
  {
   "cell_type": "code",
   "execution_count": 8,
   "id": "85d39262",
   "metadata": {},
   "outputs": [
    {
     "data": {
      "text/html": [
       "<div>\n",
       "<style scoped>\n",
       "    .dataframe tbody tr th:only-of-type {\n",
       "        vertical-align: middle;\n",
       "    }\n",
       "\n",
       "    .dataframe tbody tr th {\n",
       "        vertical-align: top;\n",
       "    }\n",
       "\n",
       "    .dataframe thead th {\n",
       "        text-align: right;\n",
       "    }\n",
       "</style>\n",
       "<table border=\"1\" class=\"dataframe\">\n",
       "  <thead>\n",
       "    <tr style=\"text-align: right;\">\n",
       "      <th></th>\n",
       "      <th>name</th>\n",
       "      <th>score</th>\n",
       "    </tr>\n",
       "  </thead>\n",
       "  <tbody>\n",
       "    <tr>\n",
       "      <th>1</th>\n",
       "      <td>zyy</td>\n",
       "      <td>100</td>\n",
       "    </tr>\n",
       "    <tr>\n",
       "      <th>2</th>\n",
       "      <td>yyz</td>\n",
       "      <td>60</td>\n",
       "    </tr>\n",
       "    <tr>\n",
       "      <th>3</th>\n",
       "      <td>yzy</td>\n",
       "      <td>70</td>\n",
       "    </tr>\n",
       "    <tr>\n",
       "      <th>4</th>\n",
       "      <td>zyz</td>\n",
       "      <td>80</td>\n",
       "    </tr>\n",
       "  </tbody>\n",
       "</table>\n",
       "</div>"
      ],
      "text/plain": [
       "  name  score\n",
       "1  zyy    100\n",
       "2  yyz     60\n",
       "3  yzy     70\n",
       "4  zyz     80"
      ]
     },
     "execution_count": 8,
     "metadata": {},
     "output_type": "execute_result"
    }
   ],
   "source": [
    "pd.read_csv('TempFolder/data.csv',index_col=0)"
   ]
  },
  {
   "cell_type": "markdown",
   "metadata": {},
   "source": [
    "没有第一行的名字的情况"
   ]
  },
  {
   "cell_type": "code",
   "execution_count": 10,
   "id": "f922a7d8",
   "metadata": {},
   "outputs": [
    {
     "data": {
      "text/html": [
       "<div>\n",
       "<style scoped>\n",
       "    .dataframe tbody tr th:only-of-type {\n",
       "        vertical-align: middle;\n",
       "    }\n",
       "\n",
       "    .dataframe tbody tr th {\n",
       "        vertical-align: top;\n",
       "    }\n",
       "\n",
       "    .dataframe thead th {\n",
       "        text-align: right;\n",
       "    }\n",
       "</style>\n",
       "<table border=\"1\" class=\"dataframe\">\n",
       "  <thead>\n",
       "    <tr style=\"text-align: right;\">\n",
       "      <th></th>\n",
       "      <th>名字</th>\n",
       "      <th>分数</th>\n",
       "    </tr>\n",
       "  </thead>\n",
       "  <tbody>\n",
       "    <tr>\n",
       "      <th>0</th>\n",
       "      <td>Name</td>\n",
       "      <td>Score</td>\n",
       "    </tr>\n",
       "    <tr>\n",
       "      <th>1</th>\n",
       "      <td>猫猫虫</td>\n",
       "      <td>60</td>\n",
       "    </tr>\n",
       "    <tr>\n",
       "      <th>2</th>\n",
       "      <td>咖波</td>\n",
       "      <td>70</td>\n",
       "    </tr>\n",
       "    <tr>\n",
       "      <th>3</th>\n",
       "      <td>布偶猫</td>\n",
       "      <td>100</td>\n",
       "    </tr>\n",
       "    <tr>\n",
       "      <th>4</th>\n",
       "      <td>熊猫</td>\n",
       "      <td>30</td>\n",
       "    </tr>\n",
       "    <tr>\n",
       "      <th>5</th>\n",
       "      <td>狗</td>\n",
       "      <td>NaN</td>\n",
       "    </tr>\n",
       "    <tr>\n",
       "      <th>6</th>\n",
       "      <td>NaN</td>\n",
       "      <td>1</td>\n",
       "    </tr>\n",
       "  </tbody>\n",
       "</table>\n",
       "</div>"
      ],
      "text/plain": [
       "     名字     分数\n",
       "0  Name  Score\n",
       "1   猫猫虫     60\n",
       "2    咖波     70\n",
       "3   布偶猫    100\n",
       "4    熊猫     30\n",
       "5     狗    NaN\n",
       "6   NaN      1"
      ]
     },
     "execution_count": 10,
     "metadata": {},
     "output_type": "execute_result"
    }
   ],
   "source": [
    "pd.read_csv('TempFolder/data2.csv',header=None,names=['名字','分数'])"
   ]
  },
  {
   "cell_type": "markdown",
   "id": "92d3c0dc",
   "metadata": {},
   "source": [
    "### 数据输出"
   ]
  },
  {
   "cell_type": "code",
   "execution_count": null,
   "id": "092d51b9",
   "metadata": {},
   "outputs": [
    {
     "data": {
      "text/html": [
       "<div>\n",
       "<style scoped>\n",
       "    .dataframe tbody tr th:only-of-type {\n",
       "        vertical-align: middle;\n",
       "    }\n",
       "\n",
       "    .dataframe tbody tr th {\n",
       "        vertical-align: top;\n",
       "    }\n",
       "\n",
       "    .dataframe thead th {\n",
       "        text-align: right;\n",
       "    }\n",
       "</style>\n",
       "<table border=\"1\" class=\"dataframe\">\n",
       "  <thead>\n",
       "    <tr style=\"text-align: right;\">\n",
       "      <th></th>\n",
       "      <th>name</th>\n",
       "      <th>score</th>\n",
       "    </tr>\n",
       "  </thead>\n",
       "  <tbody>\n",
       "    <tr>\n",
       "      <th>0</th>\n",
       "      <td>a</td>\n",
       "      <td>233</td>\n",
       "    </tr>\n",
       "    <tr>\n",
       "      <th>1</th>\n",
       "      <td>b</td>\n",
       "      <td>114</td>\n",
       "    </tr>\n",
       "    <tr>\n",
       "      <th>2</th>\n",
       "      <td>c</td>\n",
       "      <td>514</td>\n",
       "    </tr>\n",
       "    <tr>\n",
       "      <th>3</th>\n",
       "      <td>d</td>\n",
       "      <td>1919810</td>\n",
       "    </tr>\n",
       "  </tbody>\n",
       "</table>\n",
       "</div>"
      ],
      "text/plain": [
       "  name    score\n",
       "0    a      233\n",
       "1    b      114\n",
       "2    c      514\n",
       "3    d  1919810"
      ]
     },
     "execution_count": 11,
     "metadata": {},
     "output_type": "execute_result"
    }
   ],
   "source": [
    "data = pd.DataFrame({'name':['a','b','c','d'],'score':[233,114,514,1919810]})\n",
    "data"
   ]
  },
  {
   "cell_type": "code",
   "execution_count": null,
   "id": "971a536a",
   "metadata": {},
   "outputs": [],
   "source": [
    "data.to_csv('TempFolder/outfile.csv')"
   ]
  }
 ],
 "metadata": {
  "kernelspec": {
   "display_name": "Python 3.9.9 64-bit (system)",
   "language": "python",
   "name": "python3"
  },
  "language_info": {
   "codemirror_mode": {
    "name": "ipython",
    "version": 3
   },
   "file_extension": ".py",
   "mimetype": "text/x-python",
   "name": "python",
   "nbconvert_exporter": "python",
   "pygments_lexer": "ipython3",
   "version": "3.9.9"
  },
  "vscode": {
   "interpreter": {
    "hash": "d97ea874c29dc0c5f206934360be85cbccd8ce79136e0d6392e754cbb0f3d53b"
   }
  }
 },
 "nbformat": 4,
 "nbformat_minor": 5
}
